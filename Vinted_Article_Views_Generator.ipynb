{
 "cells": [
  {
   "cell_type": "markdown",
   "id": "2337d8ff",
   "metadata": {},
   "source": [
    "![vinted_img.png](vinted_img.png)\n",
    "\n",
    "# Vinted Views Generator (upload 08/2023)\n",
    "\n",
    "#### Given a `vinted_article_link` and a `num_views`:\n",
    "#### This bot generates the specified number of views to the article passed with the `vinted_article_link` \n",
    "\n",
    "\n",
    "## @Tomawk "
   ]
  },
  {
   "cell_type": "code",
   "execution_count": 1,
   "id": "af87efa1",
   "metadata": {},
   "outputs": [],
   "source": [
    "#Import\n",
    "import csv\n",
    "import numpy as np\n",
    "from bs4 import BeautifulSoup\n",
    "from selenium import webdriver #chrome driver\n",
    "import json\n",
    "import random\n",
    "import time\n",
    "from datetime import datetime"
   ]
  },
  {
   "cell_type": "code",
   "execution_count": 2,
   "id": "af4b7497",
   "metadata": {},
   "outputs": [],
   "source": [
    "## Driver Execution and options\n",
    "\n",
    "webdriver_path = 'C:\\\\Users\\\\39331\\\\Desktop\\\\Bot\\\\chromedriver.exe' #change to your path to the chromedriver\n",
    "\n",
    "options = webdriver.ChromeOptions()\n",
    "options.add_argument(\"start-maximized\")\n",
    "options.add_argument(\"disable-infobars\")\n",
    "options.add_argument(\"--disable-extensions\")\n",
    "driver = webdriver.Chrome(options=options, executable_path= webdriver_path) \n",
    "\n",
    "driver.execute_cdp_cmd('Network.setUserAgentOverride', {\"userAgent\": 'Mozilla/5.0 (Windows NT 10.0; Win64; x64) AppleWebKit/537.36 (KHTML, like Gecko) Chrome/83.0.4103.53 Safari/537.36'})\n",
    "driver.execute_script(\"Object.defineProperty(navigator, 'webdriver', {get: () => undefined})\")"
   ]
  },
  {
   "cell_type": "code",
   "execution_count": 3,
   "id": "5beae92e",
   "metadata": {},
   "outputs": [
    {
     "name": "stdout",
     "output_type": "stream",
     "text": [
      "Vinted link: https://www.vinted.it/items/3360458743-tamagotchi-mini-20th-edition-red-and-white\n",
      "Number of views to get for that article: 100\n"
     ]
    }
   ],
   "source": [
    "#User input\n",
    "\n",
    "vinted_article_link = input(\"Vinted link: \")\n",
    "num_views = input(\"Number of views to get for that article: \")"
   ]
  },
  {
   "cell_type": "code",
   "execution_count": 4,
   "id": "e745b8a5",
   "metadata": {},
   "outputs": [
    {
     "name": "stdout",
     "output_type": "stream",
     "text": [
      "Request num: 0\n",
      "Request num: 1\n",
      "Request num: 2\n",
      "Request num: 3\n",
      "Request num: 4\n",
      "Request num: 5\n",
      "Request num: 6\n",
      "Request num: 7\n",
      "Request num: 8\n",
      "Request num: 9\n",
      "Request num: 10\n",
      "Request num: 11\n",
      "Request num: 12\n",
      "Request num: 13\n",
      "Request num: 14\n",
      "Request num: 15\n",
      "Request num: 16\n",
      "Request num: 17\n",
      "Request num: 18\n",
      "Request num: 19\n",
      "Request num: 20\n",
      "Request num: 21\n",
      "Request num: 22\n",
      "Request num: 23\n",
      "Request num: 24\n",
      "Request num: 25\n",
      "Request num: 26\n",
      "Request num: 27\n",
      "Request num: 28\n",
      "Request num: 29\n",
      "Request num: 30\n",
      "Request num: 31\n",
      "Request num: 32\n",
      "Request num: 33\n",
      "Request num: 34\n",
      "Request num: 35\n",
      "Request num: 36\n",
      "Request num: 37\n",
      "Request num: 38\n",
      "Request num: 39\n",
      "Request num: 40\n",
      "Request num: 41\n",
      "Request num: 42\n",
      "Request num: 43\n",
      "Request num: 44\n",
      "Request num: 45\n",
      "Request num: 46\n",
      "Request num: 47\n",
      "Request num: 48\n",
      "Request num: 49\n",
      "Request num: 50\n",
      "Request num: 51\n",
      "Request num: 52\n",
      "Request num: 53\n",
      "Request num: 54\n",
      "Request num: 55\n",
      "Request num: 56\n",
      "Request num: 57\n",
      "Request num: 58\n",
      "Request num: 59\n",
      "Request num: 60\n",
      "Request num: 61\n",
      "Request num: 62\n",
      "Request num: 63\n",
      "Request num: 64\n",
      "Request num: 65\n",
      "Request num: 66\n",
      "Request num: 67\n",
      "Request num: 68\n",
      "Request num: 69\n",
      "Request num: 70\n",
      "Request num: 71\n",
      "Request num: 72\n",
      "Request num: 73\n",
      "Request num: 74\n",
      "Request num: 75\n",
      "Request num: 76\n",
      "Request num: 77\n",
      "Request num: 78\n",
      "Request num: 79\n",
      "Request num: 80\n",
      "Request num: 81\n",
      "Request num: 82\n",
      "Request num: 83\n",
      "Request num: 84\n",
      "Request num: 85\n",
      "Request num: 86\n",
      "Request num: 87\n",
      "Request num: 88\n",
      "Request num: 89\n",
      "Request num: 90\n",
      "Request num: 91\n",
      "Request num: 92\n",
      "Request num: 93\n",
      "Request num: 94\n",
      "Request num: 95\n",
      "Request num: 96\n",
      "Request num: 97\n",
      "Request num: 98\n",
      "Request num: 99\n",
      "All requests have been made\n"
     ]
    }
   ],
   "source": [
    "#Execution\n",
    "\n",
    "for i in range(int(num_views)):\n",
    "    driver.get(vinted_article_link)\n",
    "    time.sleep(5) #to avoid softban\n",
    "    print(\"Request num: \" + str(i)) \n",
    "\n",
    "print(\"All requests have been made\")\n",
    "driver.close()"
   ]
  },
  {
   "cell_type": "code",
   "execution_count": null,
   "id": "9760457d",
   "metadata": {},
   "outputs": [],
   "source": []
  }
 ],
 "metadata": {
  "kernelspec": {
   "display_name": "Python 3 (ipykernel)",
   "language": "python",
   "name": "python3"
  },
  "language_info": {
   "codemirror_mode": {
    "name": "ipython",
    "version": 3
   },
   "file_extension": ".py",
   "mimetype": "text/x-python",
   "name": "python",
   "nbconvert_exporter": "python",
   "pygments_lexer": "ipython3",
   "version": "3.10.9"
  }
 },
 "nbformat": 4,
 "nbformat_minor": 5
}
