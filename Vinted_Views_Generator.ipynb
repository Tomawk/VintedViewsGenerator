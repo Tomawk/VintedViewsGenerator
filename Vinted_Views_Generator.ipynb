{
 "cells": [
  {
   "attachments": {},
   "cell_type": "markdown",
   "id": "75a2d12d",
   "metadata": {},
   "source": [
    "![vinted_img.png](vinted_img.png)\n",
    "\n",
    "# Vinted Views Generator (upload 08/2023)\n",
    "\n",
    "#### Given a `vinted_username` and a `num_views_per_article`:\n",
    "#### This bot generates the specified number of views to each article of the specified vinted account.\n",
    "\n",
    "## @Tomawk "
   ]
  },
  {
   "cell_type": "code",
   "execution_count": 7,
   "id": "c9aa44f3",
   "metadata": {},
   "outputs": [],
   "source": [
    "#Import\n",
    "import csv\n",
    "import numpy as np\n",
    "from bs4 import BeautifulSoup\n",
    "from selenium import webdriver #chrome driver\n",
    "import json\n",
    "import random\n",
    "import time\n",
    "from datetime import datetime"
   ]
  },
  {
   "cell_type": "code",
   "execution_count": 8,
   "id": "6f8a3bca",
   "metadata": {},
   "outputs": [],
   "source": [
    "## Driver Execution and options\n",
    "\n",
    "webdriver_path = 'C:\\\\Users\\\\39331\\\\Desktop\\\\Bot\\\\chromedriver.exe' #change to your path to the chromedriver\n",
    "\n",
    "options = webdriver.ChromeOptions()\n",
    "options.add_argument(\"start-maximized\")\n",
    "options.add_argument(\"disable-infobars\")\n",
    "options.add_argument(\"--disable-extensions\")\n",
    "driver = webdriver.Chrome(options=options, executable_path= webdriver_path) \n",
    "\n",
    "driver.execute_cdp_cmd('Network.setUserAgentOverride', {\"userAgent\": 'Mozilla/5.0 (Windows NT 10.0; Win64; x64) AppleWebKit/537.36 (KHTML, like Gecko) Chrome/83.0.4103.53 Safari/537.36'})\n",
    "driver.execute_script(\"Object.defineProperty(navigator, 'webdriver', {get: () => undefined})\")"
   ]
  },
  {
   "cell_type": "code",
   "execution_count": 9,
   "id": "d95e4b07",
   "metadata": {},
   "outputs": [],
   "source": [
    "# Function definition to view all article once of a given vinted user\n",
    "\n",
    "def visualize_all_articles():\n",
    "\n",
    "    article_read = driver.find_elements_by_xpath(\"//div[@class='new-item-box__container']\")\n",
    "\n",
    "    counter = 0\n",
    "    row = 1\n",
    "    next_row = 0\n",
    "    row_size = 80\n",
    "\n",
    "    for counter in range(len(article_read)):\n",
    "        scroll_size = row * row_size\n",
    "        driver.execute_script(\"window.scrollTo(0, \"+ str(scroll_size) + \")\")\n",
    "        temp = driver.find_elements_by_xpath(\"//div[@class='new-item-box__container']\")\n",
    "        temp[counter].click()\n",
    "        time.sleep(2) #this can be removed but it can maybe cause a softban from vinted, so keep it. \n",
    "        counter += 1\n",
    "        next_row += 1\n",
    "        if next_row == 5:\n",
    "            next_row = 0\n",
    "            row += 1\n",
    "        driver.execute_script(\"window.history.go(-1)\")"
   ]
  },
  {
   "cell_type": "code",
   "execution_count": 10,
   "id": "cfef813e",
   "metadata": {},
   "outputs": [
    {
     "name": "stdout",
     "output_type": "stream",
     "text": [
      "Vinted username: tomawkz\n",
      "Number of views to get per article: 2\n"
     ]
    }
   ],
   "source": [
    "#User input\n",
    "\n",
    "vinted_username = input(\"Vinted username: \")\n",
    "num_views_per_article = input(\"Number of views to get per article: \")"
   ]
  },
  {
   "cell_type": "code",
   "execution_count": 11,
   "id": "5a3b273c",
   "metadata": {},
   "outputs": [],
   "source": [
    "#Users have an id so a direct user-search is not possible to look for that user and then click on it from the articles page\n",
    "\n",
    "search_user_page = \"https://www.vinted.it/catalog?search_text=\" + vinted_username\n",
    "driver.get(search_user_page)\n",
    "\n",
    "#cookie accept\n",
    "\n",
    "cookie_accept =  driver.find_element_by_xpath(\"//*[@id='onetrust-accept-btn-handler']\")\n",
    "cookie_accept.click()\n",
    "\n",
    "#Now i must perform a click on the user icon/name\n",
    "clicked = 0\n",
    "\n",
    "user_found = driver.find_elements_by_xpath(\"/html/body/main/div/section/div/div[2]/section/div/div/div[8]/div/div[1]/div/div/div/div[1]/a\")\n",
    "\n",
    "scroll_size = 0\n",
    "\n",
    "while len(user_found) == 0:\n",
    "    scroll_size += 20\n",
    "    driver.execute_script(\"window.scrollTo(0, \"+ str(scroll_size) + \")\")\n",
    "    time.sleep(1)\n",
    "    user_found = driver.find_elements_by_xpath(\"/html/body/main/div/section/div/div[2]/section/div/div/div[17]/div/div[1]/div/div/div/div[1]\")\n",
    "\n",
    "user_found[0].click()"
   ]
  },
  {
   "cell_type": "code",
   "execution_count": 12,
   "id": "20f40344",
   "metadata": {},
   "outputs": [
    {
     "ename": "IndexError",
     "evalue": "list index out of range",
     "output_type": "error",
     "traceback": [
      "\u001b[1;31m---------------------------------------------------------------------------\u001b[0m",
      "\u001b[1;31mIndexError\u001b[0m                                Traceback (most recent call last)",
      "Cell \u001b[1;32mIn[12], line 4\u001b[0m\n\u001b[0;32m      1\u001b[0m \u001b[38;5;66;03m#Now I iterate the visualize_all_articles num_views_per_article\u001b[39;00m\n\u001b[0;32m      3\u001b[0m \u001b[38;5;28;01mfor\u001b[39;00m i \u001b[38;5;129;01min\u001b[39;00m \u001b[38;5;28mrange\u001b[39m(\u001b[38;5;28mint\u001b[39m(num_views_per_article)):\n\u001b[1;32m----> 4\u001b[0m     \u001b[43mvisualize_all_articles\u001b[49m\u001b[43m(\u001b[49m\u001b[43m)\u001b[49m\n",
      "Cell \u001b[1;32mIn[9], line 18\u001b[0m, in \u001b[0;36mvisualize_all_articles\u001b[1;34m()\u001b[0m\n\u001b[0;32m     16\u001b[0m driver\u001b[38;5;241m.\u001b[39mexecute_script(\u001b[38;5;124m\"\u001b[39m\u001b[38;5;124mwindow.scrollTo(0, \u001b[39m\u001b[38;5;124m\"\u001b[39m\u001b[38;5;241m+\u001b[39m \u001b[38;5;28mstr\u001b[39m(scroll_size) \u001b[38;5;241m+\u001b[39m \u001b[38;5;124m\"\u001b[39m\u001b[38;5;124m)\u001b[39m\u001b[38;5;124m\"\u001b[39m)\n\u001b[0;32m     17\u001b[0m temp \u001b[38;5;241m=\u001b[39m driver\u001b[38;5;241m.\u001b[39mfind_elements_by_xpath(\u001b[38;5;124m\"\u001b[39m\u001b[38;5;124m//div[@class=\u001b[39m\u001b[38;5;124m'\u001b[39m\u001b[38;5;124mnew-item-box__container\u001b[39m\u001b[38;5;124m'\u001b[39m\u001b[38;5;124m]\u001b[39m\u001b[38;5;124m\"\u001b[39m)\n\u001b[1;32m---> 18\u001b[0m \u001b[43mtemp\u001b[49m\u001b[43m[\u001b[49m\u001b[43mcounter\u001b[49m\u001b[43m]\u001b[49m\u001b[38;5;241m.\u001b[39mclick()\n\u001b[0;32m     19\u001b[0m time\u001b[38;5;241m.\u001b[39msleep(\u001b[38;5;241m2\u001b[39m) \u001b[38;5;66;03m#this can be removed but it can maybe cause a softban from vinted, so keep it. \u001b[39;00m\n\u001b[0;32m     20\u001b[0m counter \u001b[38;5;241m+\u001b[39m\u001b[38;5;241m=\u001b[39m \u001b[38;5;241m1\u001b[39m\n",
      "\u001b[1;31mIndexError\u001b[0m: list index out of range"
     ]
    }
   ],
   "source": [
    "#Now I iterate the visualize_all_articles num_views_per_article\n",
    "\n",
    "for i in range(int(num_views_per_article)):\n",
    "    visualize_all_articles()\n",
    "    \n",
    "driver.close()"
   ]
  }
 ],
 "metadata": {
  "kernelspec": {
   "display_name": "Python 3 (ipykernel)",
   "language": "python",
   "name": "python3"
  },
  "language_info": {
   "codemirror_mode": {
    "name": "ipython",
    "version": 3
   },
   "file_extension": ".py",
   "mimetype": "text/x-python",
   "name": "python",
   "nbconvert_exporter": "python",
   "pygments_lexer": "ipython3",
   "version": "3.10.9"
  }
 },
 "nbformat": 4,
 "nbformat_minor": 5
}
